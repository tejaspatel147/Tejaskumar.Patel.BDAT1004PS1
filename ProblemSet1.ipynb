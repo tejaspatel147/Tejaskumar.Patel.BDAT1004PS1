{
 "cells": [
  {
   "cell_type": "markdown",
   "metadata": {},
   "source": [
    "# TejaskumarPatel_2005460587\n",
    "# Problem Set 1\n",
    "## Question 1"
   ]
  },
  {
   "cell_type": "markdown",
   "metadata": {},
   "source": [
    "### What data type is each of the following?"
   ]
  },
  {
   "cell_type": "markdown",
   "metadata": {},
   "source": [
    "5 is **int**<br>\n",
    "5.0 is **float**<br>\n",
    "5 > 1 is **bool**<br>\n",
    "'5' is **string**<br>\n",
    "5 * 2 is **int**<br>\n",
    "'5' * 2 is **string**<br>\n",
    "'5' + '2' is **string**<br>\n",
    "5 / 2 is **float**<br>\n",
    "5 // 2 is **int**<br>\n",
    "[5, 2, 1] is **list**<br>\n",
    "5\\ in [1, 4, 6] is **bool**<br>\n",
    "math.pi is **float**<br>"
   ]
  },
  {
   "cell_type": "markdown",
   "metadata": {},
   "source": [
    "## Question 2"
   ]
  },
  {
   "cell_type": "markdown",
   "metadata": {},
   "source": [
    "### a. How many letters are there in 'Supercalifragilisticexpialidocious'?"
   ]
  },
  {
   "cell_type": "code",
   "execution_count": 1,
   "metadata": {},
   "outputs": [
    {
     "name": "stdout",
     "output_type": "stream",
     "text": [
      "34\n"
     ]
    }
   ],
   "source": [
    "str = 'Supercalifragilisticexpialidocious'\n",
    "print(len(str))"
   ]
  },
  {
   "cell_type": "markdown",
   "metadata": {},
   "source": [
    "### b. Does 'Supercalifragilisticexpialidocious' contain 'ice' as a substring?"
   ]
  },
  {
   "cell_type": "code",
   "execution_count": 2,
   "metadata": {},
   "outputs": [
    {
     "name": "stdout",
     "output_type": "stream",
     "text": [
      "True\n"
     ]
    }
   ],
   "source": [
    "str = 'Supercalifragilisticexpialidocious'\n",
    "print('ice' in str)"
   ]
  },
  {
   "cell_type": "markdown",
   "metadata": {},
   "source": [
    "### c. Which of the following words is the longest:\n",
    "### Supercalifragilisticexpialidocious, Honorificabilitudinitatibus, or Bababadalgharaghtakamminarronnkonn?"
   ]
  },
  {
   "cell_type": "code",
   "execution_count": 3,
   "metadata": {},
   "outputs": [
    {
     "name": "stdout",
     "output_type": "stream",
     "text": [
      "Max Length of:  34\n",
      "Supercalifragilisticexpialidocious\n",
      "Bababadalgharaghtakamminarronnkonn\n"
     ]
    }
   ],
   "source": [
    "words = ['Supercalifragilisticexpialidocious','Honorificabilitudinitatibus','Bababadalgharaghtakamminarronnkonn']\n",
    "wordLengths = []\n",
    "for word in words:\n",
    "    wordLengths.append(len(word))\n",
    "\n",
    "maxLength = max(wordLengths)\n",
    "print('Max Length of: ', maxLength)\n",
    "for i in words: \n",
    "    if len(i) == maxLength:\n",
    "        print(i)"
   ]
  },
  {
   "cell_type": "markdown",
   "metadata": {},
   "source": [
    "### d. Which composer comes first in the dictionary: \n",
    "### 'Berlioz', 'Borodin', 'Brian', 'Bartok', 'Bellini', 'Buxtehude', 'Bernstein'. Which one comes last?"
   ]
  },
  {
   "cell_type": "code",
   "execution_count": 4,
   "metadata": {},
   "outputs": [
    {
     "name": "stdout",
     "output_type": "stream",
     "text": [
      "First:  Bartok\n",
      "Last:  Buxtehude\n"
     ]
    }
   ],
   "source": [
    "words = ['Berlioz', 'Borodin', 'Brian','Bartok', 'Bellini', 'Buxtehude', 'Bernstein']\n",
    "words.sort()\n",
    "print('First: ', words[0])\n",
    "print('Last: ', words[len(words) - 1])"
   ]
  },
  {
   "cell_type": "markdown",
   "metadata": {},
   "source": [
    "## Question 3"
   ]
  },
  {
   "cell_type": "markdown",
   "metadata": {},
   "source": [
    "### a. Write a function inside(x,y,x1,y1,x2,y2) that returns True or False depending on whether the point (x,y) lies in the rectangle with lower left corner (x1,y1) and upper right corner (x2,y2).\n",
    "### >>> inside(1,1,0,0,2,3)\n",
    "True\n",
    "### >>> inside(-1,-1,0,0,2,3)\n",
    "False"
   ]
  },
  {
   "cell_type": "code",
   "execution_count": 5,
   "metadata": {},
   "outputs": [
    {
     "name": "stdout",
     "output_type": "stream",
     "text": [
      "inside(1, 1, 0, 0, 2, 3)\n",
      "True\n",
      "inside(-1, -1, 0, 0, 2, 3)\n",
      "False\n"
     ]
    }
   ],
   "source": [
    "def inside(x, y, x1, y1, x2, y2):\n",
    "        return (x <= x2 and x >= x1) and (y <= y2 and y >= y1)\n",
    "print(\"inside(1, 1, 0, 0, 2, 3)\")\n",
    "print(inside(1, 1, 0, 0, 2, 3))\n",
    "\n",
    "print(\"inside(-1, -1, 0, 0, 2, 3)\")\n",
    "print(inside(-1, -1, 0, 0, 2, 3))"
   ]
  },
  {
   "cell_type": "markdown",
   "metadata": {},
   "source": [
    "### b. Use function inside() from part a. to write an expression that tests whether the point (1,1) lies in both of the following rectangles: one with lower left corner (0.3, 0.5) and upper right corner (1.1, 0.7) and the other with lower left corner (0.5, 0.2) and upper right corner (1.1, 2)."
   ]
  },
  {
   "cell_type": "code",
   "execution_count": 6,
   "metadata": {},
   "outputs": [
    {
     "name": "stdout",
     "output_type": "stream",
     "text": [
      "inside(1, 1, 0.3, 0.5, 1.1, 0.7) and inside(1, 1, 0.5, 0.2, 1.1, 2)\n",
      "False\n"
     ]
    }
   ],
   "source": [
    "print(\"inside(1, 1, 0.3, 0.5, 1.1, 0.7) and inside(1, 1, 0.5, 0.2, 1.1, 2)\")\n",
    "print(inside(1, 1, 0.3, 0.5, 1.1, 0.7) and inside(1, 1, 0.5, 0.2, 1.1, 2))"
   ]
  },
  {
   "cell_type": "markdown",
   "metadata": {},
   "source": [
    "## Question 4\n",
    "\n",
    "### You can turn a word into pig-Latin using the following two rules (simplified):\n",
    "• If the word starts with a consonant, move that letter to the end and append 'ay'. For example, 'happy' becomes 'appyhay' and 'pencil' becomes 'encilpay'. \n",
    "• If the word starts with a vowel, simply append 'way' to the end of the word. For example, 'enter' becomes 'enterway' and 'other' becomes 'otherway' . For our purposes, there are 5 vowels: a, e, i, o, u (so we count y as a consonant).\n",
    "Write a function pig() that takes a word (i.e., a string) as input and returns its pig-Latin form. Your function should still work if the input word contains upper case characters. Your output should always be lower case however.\n",
    "### >>> pig('happy')\n",
    "'appyhay'\n",
    "### >>> pig('Enter')\n",
    "'enterway'"
   ]
  },
  {
   "cell_type": "code",
   "execution_count": 7,
   "metadata": {},
   "outputs": [
    {
     "name": "stdout",
     "output_type": "stream",
     "text": [
      "happy Pig:  appyhay\n",
      "pencil Pig:  encilpay\n",
      "enter Pig:  enterway\n",
      "other Pig:  otherway\n"
     ]
    }
   ],
   "source": [
    "vowel = ['a', 'e', 'i', 'o', 'u', 'A', 'E', 'I', 'O', 'U']\n",
    "consonant = ['b', 'c', 'd', 'f', 'g', 'h', 'j', 'k', 'l',\n",
    "             'm', 'n', 'p', 'q', 'r', 's', 't', 'v', 'w', 'y', 'z']\n",
    "\n",
    "cosnantAppend = 'ay'\n",
    "vowelAppend = 'way'\n",
    "\n",
    "\n",
    "def pig(str):\n",
    "    if len(str) <= 1:  # dont care about string less than 2 characters\n",
    "        return str\n",
    "    if str[0] in consonant:\n",
    "        return str[1:len(str)] + str[0] + cosnantAppend\n",
    "    if str[0] in vowel:\n",
    "        return str + vowelAppend\n",
    "\n",
    "print('happy Pig: ', pig('happy'))\n",
    "print('pencil Pig: ', pig('pencil'))\n",
    "print('enter Pig: ', pig('enter'))\n",
    "print('other Pig: ', pig('other'))"
   ]
  },
  {
   "cell_type": "markdown",
   "metadata": {},
   "source": [
    "## Question 5\n",
    "File bloodtype1.txt records blood-types of patients (A, B, AB, O or OO) at a clinic. Write a function bldcount() that reads the file with name name and reports (i.e., prints) how many patients there are in each bloodtype.\n",
    "### >>> bldcount('bloodtype.txt')\n",
    "There are 10 patients of blood type A.<br>\n",
    "There is one patient of blood type B.<br>\n",
    "There are 10 patients of blood type AB.<br>\n",
    "There are 12 patients of blood type O.<br>\n",
    "There are no patients of blood type OO."
   ]
  },
  {
   "cell_type": "code",
   "execution_count": 8,
   "metadata": {},
   "outputs": [
    {
     "name": "stdout",
     "output_type": "stream",
     "text": [
      "There are 15 patients of blood type A.\n",
      "There is one patient of blood type B.\n",
      "There are 13 patients of blood type AB.\n",
      "There are 15 patients of blood type O.\n",
      "There are no patients of blood type OO.\n"
     ]
    }
   ],
   "source": [
    "bloodTypes = {\n",
    "    'A': 0,\n",
    "    'B': 0,\n",
    "    'AB':0,\n",
    "    'O': 0,\n",
    "    'OO':0,\n",
    "}\n",
    "def bldcount():\n",
    "    f = open(\"bloodtype1.txt\", \"r\")\n",
    "    line = f.readline()\n",
    "    f.close()\n",
    "    patientBloodTypes = line.split(' ')\n",
    "\n",
    "    for bt in patientBloodTypes:\n",
    "        if(bt in bloodTypes):\n",
    "            bloodTypes[bt] += 1\n",
    "\n",
    "    for bt in bloodTypes:\n",
    "        count = bloodTypes[bt]\n",
    "        print(\n",
    "            'There {0} {1} patient{2} of blood type {3}.'.format(\n",
    "            'is' if count == 1 else 'are' ,\n",
    "            count if count > 1 else 'one' if count == 1 else 'no',\n",
    "            's' if count != 1 else '',\n",
    "            bt))\n",
    "\n",
    "bldcount()"
   ]
  },
  {
   "cell_type": "markdown",
   "metadata": {},
   "source": [
    "## Question 6\n",
    "Write a function curconv() that takes as input:<br>\n",
    "1. a currency represented using a string (e.g., 'JPY' for the Japanese Yen or 'EUR' for the Euro)<br>\n",
    "2. an amount<br>\n",
    "and then converts and returns the amount in US dollars.\n",
    "\n",
    "curconv('EUR', 100)<br>\n",
    "122.96544<br>\n",
    "curconv('JPY', 100)<br>\n",
    "1.241401<br>"
   ]
  },
  {
   "cell_type": "code",
   "execution_count": 9,
   "metadata": {},
   "outputs": [
    {
     "name": "stdout",
     "output_type": "stream",
     "text": [
      "currconv('EUR', 100)\n",
      "122.96544\n",
      "currconv('JPY', 100)\n",
      "1.241401\n"
     ]
    }
   ],
   "source": [
    "def currconv(ccy, amt, currencies):\n",
    "    if(ccy not in currencies):\n",
    "        return amt\n",
    "    currency = currencies[ccy]\n",
    "    return currency['rate'] * amt\n",
    "\n",
    "\n",
    "def getCurrencies():\n",
    "    f = open(\"currencies.txt\", \"r\")\n",
    "    lines = f.readlines()\n",
    "    f.close()\n",
    "    currencies = {}\n",
    "    for l in lines:\n",
    "        rateLine = l.split('\\t')\n",
    "        currencies[rateLine[0]] = {\n",
    "            'rate': float(rateLine[1]),\n",
    "            'name': rateLine[2]\n",
    "        }\n",
    "    return currencies\n",
    "\n",
    "currencies = getCurrencies()\n",
    "print('currconv(\\'EUR\\', 100)')\n",
    "print(currconv('EUR', 100, currencies))\n",
    "print('currconv(\\'JPY\\', 100)')\n",
    "print(currconv('JPY', 100, currencies))"
   ]
  },
  {
   "cell_type": "markdown",
   "metadata": {},
   "source": [
    "## Question 7\n",
    "Each of the following will cause an exception (an error). Identify what type of exception each will cause.<br>\n",
    "1 Trying to add incompatible variables, as in adding 6 + ‘a’<br>\n",
    "2 Referring to the 12th item of a list that has only 10 items<br>\n",
    "3 Using a value that is out of range for a function’s input, such as calling math.sqrt( 1.0)<br>\n",
    "4 Using an undeclared variable, such as print(x) when x has not been defined<br>\n",
    "5 Trying to open a file that does not exist, such as mistyping the file name or looking in the wrong directory."
   ]
  },
  {
   "cell_type": "markdown",
   "metadata": {},
   "source": [
    "### Answer\n",
    "1. 6 + 'a' will cause **TypeError** (cannot add a number and a string)\n",
    "\n",
    "2. 12th element on a list with 10 elements will cause **IndexError** (12th index is not found since the max index is 9 starting from 0 totalking 10 elements)\n",
    "\n",
    "3. math.sqrt(-1.0) will raise a **ValueError**, as negative value is not allowed for sqrt method\n",
    "\n",
    "4. using an undeclared variable will cause **NameError** as variable is not defined\n",
    "\n",
    "5. reading a file that does not exists will cause a **FileNotFoundError**"
   ]
  },
  {
   "cell_type": "markdown",
   "metadata": {},
   "source": [
    "## Question 8\n",
    "Encryption is the process of hiding the meaning of a text by substituting letters in the message with other letters, according to some system. If the process is successful, no one but the intended recipient can understand the encrypted message. Cryptanalysis refers to attempts to undo the encryption, even if some details of the encryption are unknown (for example, if an encrypted message has been intercepted). The first step of cryptanalysis is often to build up a table of letter frequencies in the encrypted text. Assume that the string letters is already defined as 'abcdefghijklmnopqrstuvwxyz'. Write a function called frequencies() that takes a string as its only parameter, and returns a list of integers, showing the number of times each character appears in the text. Your function may ignore any characters that are not in letters.\n",
    "### >>> frequencies('The quick red fox got bored and went home.')\n",
    "[1, 1, 1, 3, 5, 1, 1, 2, 1, 0, 1, 0, 1, 2, 4, 0, 1, 2, 0, 2, 1, 0, 1, 1, 0, 0]\n",
    "### >>> frequencies('apple')"
   ]
  },
  {
   "cell_type": "code",
   "execution_count": 10,
   "metadata": {},
   "outputs": [
    {
     "name": "stdout",
     "output_type": "stream",
     "text": [
      "frequencies('The quick red fox got bored and went home.')\n",
      "[1, 1, 1, 3, 5, 1, 1, 2, 1, 0, 1, 0, 1, 2, 4, 0, 1, 2, 0, 2, 1, 0, 1, 1, 0, 0]\n",
      "frequencies('apple')\n",
      "[1, 0, 0, 0, 1, 0, 0, 0, 0, 0, 0, 1, 0, 0, 0, 2, 0, 0, 0, 0, 0, 0, 0, 0, 0, 0]\n"
     ]
    }
   ],
   "source": [
    "letters = 'abcdefghijklmnopqrstuvwxyz'\n",
    "\n",
    "def frequencies(str):\n",
    "    count = []\n",
    "    for c in letters:\n",
    "        count.append(str.count(c))\n",
    "    return count\n",
    "    \n",
    "print('frequencies(\\'The quick red fox got bored and went home.\\')')\n",
    "print(frequencies('The quick red fox got bored and went home.'))\n",
    "print('frequencies(\\'apple\\')')\n",
    "print(frequencies('apple'))"
   ]
  },
  {
   "cell_type": "markdown",
   "metadata": {},
   "source": [
    "## Question 9 \n",
    "The Sieve of Erastophenes is an algorithm -- known to ancient Greeks -- that finds all prime numbers up to a given number n. It does this by first creating a list L from 2 to n and an (initially empty) list primeL. The algorithm then takes the first number in list L (2) and appends it to list primeL, and then removes 2 and all its multiples (4,6,8,10,12, ...) from L. The algorithm then takes the new first number in L (3) and appends it to list primeL, and then removes from L 3 and all its remaining multiples (9,15,21,...). So, in every iteration, the first number of list L is appended to list primeL and then it and its multiples are removed from list L. The iterations stop when list L becomes empty. Write a function sieve() that takes as input a positive integer n, implements the above algorithm, and returns a list of all prime numbers up to n.\n",
    "### >>> sieve(56)\n",
    "[2, 3, 5, 7, 11, 13, 17, 19, 23, 29, 31, 37, 41,\n",
    "43, 47, 53]\n",
    "### >>> sieve(368)\n",
    "[2, 3, 5, 7, 11, 13, 17, 19, 23, 29, 31, 37, 41,\n",
    "43, 47, 53, 59, 61, 67, 71, 73, 79, 83, 89, 97,\n",
    "101, 103, 107, 109, 113, 127, 131, 137, 139, 149,\n",
    "151, 157, 163, 167, 173, 179, 181, 191, 193, 197,\n",
    "199, 211, 223, 227, 229, 233, 239, 241, 251, 257,\n",
    "263, 269, 271, 277, 281, 283, 293, 307, 311, 313,\n",
    "317, 331, 337, 347, 349, 353, 359, 367]\n",
    "### >>> sieve(32)\n",
    "[2, 3, 5, 7, 11, 13, 17, 19, 23, 29, 31]"
   ]
  },
  {
   "cell_type": "code",
   "execution_count": 11,
   "metadata": {},
   "outputs": [
    {
     "name": "stdout",
     "output_type": "stream",
     "text": [
      "sieve(56)\n",
      "[2, 3, 5, 7, 11, 13, 17, 19, 23, 29, 31, 37, 41, 43, 47, 53]\n",
      "\n",
      "sieve(368)\n",
      "[2, 3, 5, 7, 11, 13, 17, 19, 23, 29, 31, 37, 41, 43, 47, 53, 59, 61, 67, 71, 73, 79, 83, 89, 97, 101, 103, 107, 109, 113, 127, 131, 137, 139, 149, 151, 157, 163, 167, 173, 179, 181, 191, 193, 197, 199, 211, 223, 227, 229, 233, 239, 241, 251, 257, 263, 269, 271, 277, 281, 283, 293, 307, 311, 313, 317, 331, 337, 347, 349, 353, 359, 367]\n",
      "\n",
      "sieve(32)\n",
      "[2, 3, 5, 7, 11, 13, 17, 19, 23, 29, 31]\n",
      "\n"
     ]
    }
   ],
   "source": [
    "def sieve(number):\n",
    "    l = []\n",
    "    primeL = []\n",
    "    l.extend(range(2,number+1))\n",
    "    while len(l) != 0:\n",
    "        num = l[0]\n",
    "        primeL.append(num)\n",
    "        removeMultipleOf(num, l)\n",
    "    \n",
    "    return primeL\n",
    "\n",
    "def removeMultipleOf(number, lst):\n",
    "     i = 0\n",
    "     while i < len(lst):\n",
    "        if lst[i] % number == 0:\n",
    "            del lst[i]\n",
    "        else:\n",
    "            i += 1\n",
    "\n",
    "print('sieve(56)')\n",
    "print(sieve(56))\n",
    "print('')\n",
    "\n",
    "print('sieve(368)')\n",
    "print(sieve(368))\n",
    "print('')\n",
    "\n",
    "\n",
    "print('sieve(32)')\n",
    "print(sieve(32))\n",
    "print('')"
   ]
  },
  {
   "cell_type": "markdown",
   "metadata": {},
   "source": [
    "## Question 10\n",
    "Implement function triangleArea(a,b,c) that takes as input the lengths of the 3 sides of a triangle and returns the area of the triangle. By Heron's formula, the area of a triangle with side lengths a, b, and c is sqrt of s(s - a)(s -b)(s -c), where s = (a+b+c) /2.\n",
    "### >>> triangleArea(2,2,2)\n",
    "1.7320508075688772"
   ]
  },
  {
   "cell_type": "code",
   "execution_count": 12,
   "metadata": {},
   "outputs": [
    {
     "name": "stdout",
     "output_type": "stream",
     "text": [
      "triangleArea(2,2,2)\n",
      "1.7320508075688772\n"
     ]
    }
   ],
   "source": [
    "import math\n",
    "\n",
    "def triangleArea(a,b,c):\n",
    "    s = (a + b + c) / 2\n",
    "    area = math.sqrt(s * (s - a) * (s - b) * (s - c))\n",
    "    return area\n",
    "\n",
    "print('triangleArea(2,2,2)')\n",
    "print(triangleArea(2,2,2))"
   ]
  }
 ],
 "metadata": {
  "kernelspec": {
   "display_name": "Python 3",
   "language": "python",
   "name": "python3"
  },
  "language_info": {
   "codemirror_mode": {
    "name": "ipython",
    "version": 3
   },
   "file_extension": ".py",
   "mimetype": "text/x-python",
   "name": "python",
   "nbconvert_exporter": "python",
   "pygments_lexer": "ipython3",
   "version": "3.7.6"
  }
 },
 "nbformat": 4,
 "nbformat_minor": 4
}
